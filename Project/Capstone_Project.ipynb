{
 "cells": [
  {
   "cell_type": "code",
   "execution_count": 1,
   "id": "552a6ec5-bb9b-45d5-a089-3f68a2444ed4",
   "metadata": {
    "tags": []
   },
   "outputs": [],
   "source": [
    "import cv2\n",
    "import numpy as np\n",
    "from sklearn.metrics import pairwise"
   ]
  },
  {
   "cell_type": "code",
   "execution_count": 2,
   "id": "cf040cd5-a217-479d-aaea-898020e93e94",
   "metadata": {
    "tags": []
   },
   "outputs": [],
   "source": [
    "background=None\n",
    "\n",
    "accumulated_weight=0.5\n",
    "\n",
    "roi_top=20\n",
    "roi_bottom=300\n",
    "roi_right=300\n",
    "roi_left=600"
   ]
  },
  {
   "cell_type": "code",
   "execution_count": 3,
   "id": "e06fd223-cc92-4643-914e-bc1683925d0f",
   "metadata": {
    "tags": []
   },
   "outputs": [],
   "source": [
    "def cal_accumulated_avg(frame,accumulated_weight):\n",
    "    global background\n",
    "    if background is None:\n",
    "        background=frame.copy().astype(\"float\")\n",
    "        return None\n",
    "    cv2.accumulateWeighted(frame,background,accumulated_weight)\n",
    "    "
   ]
  },
  {
   "cell_type": "code",
   "execution_count": 4,
   "id": "3926a79d-009f-4695-a301-78e79897d22b",
   "metadata": {
    "tags": []
   },
   "outputs": [],
   "source": [
    "def segment(frame,threshold=25):\n",
    "    diff=cv2.absdiff(background.astype('uint8'),frame)\n",
    "    ret,thresholded=cv2.threshold(diff,threshold,255,cv2.THRESH_BINARY)\n",
    "    contours,hierarchy=cv2.findContours(thresholded.copy(),cv2.RETR_EXTERNAL,cv2.CHAIN_APPROX_SIMPLE)\n",
    "    \n",
    "    if len(contours) ==0:\n",
    "        return 0\n",
    "    else:\n",
    "        hand_segment=max(contours,key=cv2.contourArea)\n",
    "        return(thresholded,hand_segment)"
   ]
  },
  {
   "cell_type": "code",
   "execution_count": 5,
   "id": "d07d7cec-2e16-4ab4-bcbe-d672bc7cc093",
   "metadata": {},
   "outputs": [],
   "source": [
    "def count_fingers(thresholded,hand_segment):\n",
    "    conv_hull=cv2.convexHull(hand_segment)\n",
    "    #TOP\n",
    "    top=tuple(conv_hull[conv_hull[:,:,1].argmin()[0]])\n",
    "    bottom=tuple(conv_hull[conv_hull[:,:,1].argmax()[0]])\n",
    "    left=tuple(conv_hull[conv_hull[:,:,0].argmin()[0]])\n",
    "    right=tuple(conv_hull[conv_hull[:,:,0].argmax()[0]])\n",
    "    \n",
    "    cX=(left[0]+right[0])//2\n",
    "    cY=(top[1]+bottom[1])//2\n",
    "    \n",
    "    dst=pairwise.euclidean_distances([cX,cY],Y=[left,right,top,bottom])[0]\n",
    "    max_dst=dst.max()\n",
    "    radius=int(0.9*max_dst)\n",
    "    circumfrence=(2*np.pi*radius)\n",
    "    circular_roi=np.zeros(thresholded[:2],dtype='uint8')\n",
    "    cv2.circle(circular_roi,(cX,cY),radius,255,10)\n",
    "    circular_roi=cv2.bitwise_and(thresholded,thresholded,circular_roi)\n",
    "    contours,hierarchy=cv2.findContours(circular_roi.copy(),cv2.RETR_EXTERNAL,cv2.CHAIN_APPROX_NONE)\n",
    "    cnt=0\n",
    "    for cn in contours:\n",
    "        (x,y,w,h)=cv2.boundingRect(cnt)\n",
    "        out_wrist=(cY+(cY*0.25))>(y+h)\n",
    "        limit_pts=((circumfrence*0.25)>cnt.shape[0])\n",
    "        if out_wrist and limit_pts:\n",
    "            cnt+=1\n",
    "    return cnt"
   ]
  },
  {
   "cell_type": "code",
   "execution_count": 6,
   "id": "73af6e76-38ab-4863-a479-33a49a2327f5",
   "metadata": {
    "tags": []
   },
   "outputs": [
    {
     "ename": "TypeError",
     "evalue": "cannot unpack non-iterable int object",
     "output_type": "error",
     "traceback": [
      "\u001b[1;31m---------------------------------------------------------------------------\u001b[0m",
      "\u001b[1;31mTypeError\u001b[0m                                 Traceback (most recent call last)",
      "Cell \u001b[1;32mIn[6], line 18\u001b[0m\n\u001b[0;32m     16\u001b[0m hand\u001b[38;5;241m=\u001b[39msegment(grimg)\n\u001b[0;32m     17\u001b[0m \u001b[38;5;28;01mif\u001b[39;00m hand \u001b[38;5;129;01mis\u001b[39;00m \u001b[38;5;129;01mnot\u001b[39;00m \u001b[38;5;28;01mNone\u001b[39;00m:\n\u001b[1;32m---> 18\u001b[0m     (thresholded,hand_segment)\u001b[38;5;241m=\u001b[39mhand\n\u001b[0;32m     19\u001b[0m     cv2\u001b[38;5;241m.\u001b[39mdrawContours(frame_c,[hand_segment\u001b[38;5;241m+\u001b[39m(roi_right,roi_top)],\u001b[38;5;241m-\u001b[39m\u001b[38;5;241m1\u001b[39m,(\u001b[38;5;241m255\u001b[39m,\u001b[38;5;241m0\u001b[39m,\u001b[38;5;241m0\u001b[39m),\u001b[38;5;241m5\u001b[39m)\n\u001b[0;32m     20\u001b[0m     fingers\u001b[38;5;241m=\u001b[39mcount_fingers(thresholded,hand_segment)\n",
      "\u001b[1;31mTypeError\u001b[0m: cannot unpack non-iterable int object"
     ]
    }
   ],
   "source": [
    "cam=cv2.VideoCapture(0)\n",
    "num_frame=0\n",
    "while True:\n",
    "    ret,frame=cam.read()\n",
    "    frame_c=frame.copy()\n",
    "    roi=frame[roi_top:roi_bottom,roi_right:roi_left]\n",
    "    grimg=cv2.cvtColor(roi,cv2.COLOR_BGR2GRAY)\n",
    "    grimg=cv2.GaussianBlur(grimg,(7,7),0)\n",
    "    if num_frame<60:\n",
    "        cal_accumulated_avg(grimg,accumulated_weight)\n",
    "        if num_frame<=59:\n",
    "            cv2.putText(frame_c,\"WAIT.GETTING BACKGROUND\",(200,300),cv2.FONT_HERSHEY_SIMPLEX,1,(0,0,255),2)\n",
    "            cv2.imshow(\"Finger Count\",frame_c)\n",
    "            \n",
    "    else:\n",
    "        hand=segment(grimg)\n",
    "        if hand is not None:\n",
    "            (thresholded,hand_segment)=hand\n",
    "            cv2.drawContours(frame_c,[hand_segment+(roi_right,roi_top)],-1,(255,0,0),5)\n",
    "            fingers=count_fingers(thresholded,hand_segment)\n",
    "            cv2.putText(frame_c,str(fingers),(70,50),cv2.FONT_HERSHEY_SIMPLEX,1,(0,0,255),2)\n",
    "            cv2.imshow(\"Thresholded\",thresholded)\n",
    "            \n",
    "            \n",
    "    cv2.rectangle(frame_c,(roi_left,roi_top),(roi_right,roi_bottom),(0,0,255),5)\n",
    "    num_frame+=1\n",
    "    \n",
    "    cv2.imshow(\"Finger Count\",frame_c)\n",
    "    k=cv2.waitKey(1) & 0xFF\n",
    "    if k==27:\n",
    "        break\n",
    "        \n",
    "        \n",
    "        \n",
    "cam.release()\n",
    "cv2.destroyAllWindows()    "
   ]
  },
  {
   "cell_type": "code",
   "execution_count": null,
   "id": "4c6609c4-aa9c-4310-9363-35b8563a6afa",
   "metadata": {},
   "outputs": [],
   "source": []
  }
 ],
 "metadata": {
  "kernelspec": {
   "display_name": "Python 3 (ipykernel)",
   "language": "python",
   "name": "python3"
  },
  "language_info": {
   "codemirror_mode": {
    "name": "ipython",
    "version": 3
   },
   "file_extension": ".py",
   "mimetype": "text/x-python",
   "name": "python",
   "nbconvert_exporter": "python",
   "pygments_lexer": "ipython3",
   "version": "3.11.4"
  }
 },
 "nbformat": 4,
 "nbformat_minor": 5
}
