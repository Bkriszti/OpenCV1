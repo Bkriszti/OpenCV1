{
 "cells": [
  {
   "cell_type": "code",
   "execution_count": 1,
   "id": "4f0bbb08-0d51-4465-8165-afb66d2ccb45",
   "metadata": {
    "tags": []
   },
   "outputs": [],
   "source": [
    "import cv2\n",
    "import numpy as np"
   ]
  },
  {
   "cell_type": "code",
   "execution_count": 2,
   "id": "60303f0f-7ff3-400b-b920-02cd2e20f1cd",
   "metadata": {
    "tags": []
   },
   "outputs": [],
   "source": [
    "corner_track_params=dict(maxCorners=10,qualityLevel=0.3,minDistance=7,blockSize=7)"
   ]
  },
  {
   "cell_type": "code",
   "execution_count": 3,
   "id": "11c84b8f-75c2-4c1e-aa68-e66c4630f713",
   "metadata": {
    "tags": []
   },
   "outputs": [],
   "source": [
    "lk_params=dict(winSize=(200,200),maxLevel=2,criteria=(cv2.TERM_CRITERIA_EPS| cv2.TERM_CRITERIA_COUNT,10,0.03))"
   ]
  },
  {
   "cell_type": "code",
   "execution_count": 11,
   "id": "77572275-afdd-4ace-9091-a533dfd131c4",
   "metadata": {
    "tags": []
   },
   "outputs": [],
   "source": [
    "cap=cv2.VideoCapture(0)\n",
    "ret,pre_frame=cap.read()\n",
    "prev_gray=cv2.cvtColor(pre_frame,cv2.COLOR_BGR2GRAY)\n",
    "\n",
    "#POINTS TO TRACK\n",
    "prev_points=cv2.goodFeaturesToTrack(prev_gray,mask=None,**corner_track_params)\n",
    "\n",
    "mask=np.zeros_like(pre_frame)\n",
    "while True:\n",
    "    ret,frame=cap.read()\n",
    "    frame_gray=cv2.cvtColor(frame,cv2.COLOR_BGR2GRAY)\n",
    "    nextPoints,status,err=cv2.calcOpticalFlowPyrLK(prev_gray,frame_gray,prev_points,None,**lk_params)\n",
    "    good_new=nextPoints[status==1]\n",
    "    good_prev=prev_points[status==1]\n",
    "    for i,(new,prev) in enumerate(zip(good_new,good_prev)):\n",
    "        x_new,y_new=new.ravel()\n",
    "        x_prev,y_prev=prev.ravel()\n",
    "        mask=cv2.line(mask,(int(x_new),int(y_new)),(int(x_prev),int(y_prev)),(0,255,0),3)\n",
    "        frame=cv2.circle(frame,(int(x_new),int(y_new)),8,(0,0,255),-1)\n",
    "    \n",
    "    img=cv2.add(frame,mask)\n",
    "    cv2.imshow('Tracking',img)\n",
    "    \n",
    "    k=cv2.waitKey(30) & 0xFF\n",
    "    if k==27:\n",
    "        break\n",
    "    prev_gray=frame_gray.copy()\n",
    "    prev_points=good_new.reshape(-1,1,2)\n",
    "\n",
    "cv2.destroyAllWindows()\n",
    "cap.release()\n",
    "    "
   ]
  },
  {
   "cell_type": "markdown",
   "id": "27e2c588-1ce3-446f-9b3f-4edd6eb6d1c4",
   "metadata": {},
   "source": [
    "# PART TWO"
   ]
  },
  {
   "cell_type": "code",
   "execution_count": 12,
   "id": "c2485c0f-79d2-4f3a-b41a-f50bbaa5b949",
   "metadata": {
    "tags": []
   },
   "outputs": [],
   "source": [
    "import cv2\n",
    "import numpy as np"
   ]
  },
  {
   "cell_type": "code",
   "execution_count": 13,
   "id": "7ea192cb-c351-4bf0-be3d-e4bcce11f2f8",
   "metadata": {
    "tags": []
   },
   "outputs": [],
   "source": [
    "cap=cv2.VideoCapture(0)\n",
    "ret,frame1=cap.read()\n",
    "prvsImg=cv2.cvtColor(frame1,cv2.COLOR_BGR2GRAY)\n",
    "hsv_mask=np.zeros_like(frame1)\n",
    "hsv_mask[:,:,1] = 255;\n",
    "while True:\n",
    "    ret,frame2=cap.read()\n",
    "    next_img=cv2.cvtColor(frame2,cv2.COLOR_BGR2GRAY)\n",
    "    flow=cv2.calcOpticalFlowFarneback(prvsImg,next_img,None,0.5,3,15,3,5,1.2,0)\n",
    "    mag,ang=cv2.cartToPolar(flow[:,:,0],flow[:,:,1],angleInDegrees=True)\n",
    "    hsv_mask[:,:,0]=ang/2\n",
    "    hsv_mask[:,:,2]=cv2.normalize(mag,None,0,255,cv2.NORM_MINMAX)\n",
    "    bgr=cv2.cvtColor(hsv_mask,cv2.COLOR_HSV2BGR)\n",
    "    cv2.imshow('Frame',bgr)\n",
    "    k=cv2.waitKey(10) & 0xFF\n",
    "    if k==27:\n",
    "        break\n",
    "    prvsImg=next_img\n",
    "\n",
    "cv2.destroyAllWindows()\n",
    "cap.release()"
   ]
  },
  {
   "cell_type": "code",
   "execution_count": null,
   "id": "a30a1777-fb25-4860-8998-baa572e066da",
   "metadata": {},
   "outputs": [],
   "source": []
  }
 ],
 "metadata": {
  "kernelspec": {
   "display_name": "Python 3 (ipykernel)",
   "language": "python",
   "name": "python3"
  },
  "language_info": {
   "codemirror_mode": {
    "name": "ipython",
    "version": 3
   },
   "file_extension": ".py",
   "mimetype": "text/x-python",
   "name": "python",
   "nbconvert_exporter": "python",
   "pygments_lexer": "ipython3",
   "version": "3.11.4"
  }
 },
 "nbformat": 4,
 "nbformat_minor": 5
}
